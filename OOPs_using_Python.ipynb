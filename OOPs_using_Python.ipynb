{
 "cells": [
  {
   "cell_type": "markdown",
   "id": "c20d2984-27da-428d-b478-7bff145429f1",
   "metadata": {},
   "source": [
    "## OOPS IN PYTHON"
   ]
  },
  {
   "cell_type": "code",
   "execution_count": null,
   "id": "ad56e7fb-c62b-46c2-9d79-2fb3e57642dd",
   "metadata": {},
   "outputs": [],
   "source": [
    "## class Name_of_class():\n",
    " ##    def__init__(self,parameter1,parameter2):\n",
    "   ##           self.parameter1=parameter1\n",
    "   ##        self.parameter2=parameter2"
   ]
  },
  {
   "cell_type": "code",
   "execution_count": 1,
   "id": "b9306eaf-f103-469a-b559-f2837ae65c59",
   "metadata": {},
   "outputs": [],
   "source": [
    "class Dog():\n",
    "    def __init__(self,breed):\n",
    "        self.breed=breed"
   ]
  },
  {
   "cell_type": "code",
   "execution_count": 2,
   "id": "f98fbfac-1d43-4971-af6d-93e6a2b140f5",
   "metadata": {},
   "outputs": [],
   "source": [
    "my_dog=Dog(breed='Lab')"
   ]
  },
  {
   "cell_type": "code",
   "execution_count": 3,
   "id": "7d7f47e4-cbce-4c6a-83f1-b1ccb2fe3542",
   "metadata": {},
   "outputs": [
    {
     "data": {
      "text/plain": [
       "__main__.Dog"
      ]
     },
     "execution_count": 3,
     "metadata": {},
     "output_type": "execute_result"
    }
   ],
   "source": [
    "type(my_dog)"
   ]
  },
  {
   "cell_type": "code",
   "execution_count": 4,
   "id": "260f588a-832d-4cd8-84eb-922acbd90b0a",
   "metadata": {},
   "outputs": [
    {
     "data": {
      "text/plain": [
       "'Lab'"
      ]
     },
     "execution_count": 4,
     "metadata": {},
     "output_type": "execute_result"
    }
   ],
   "source": [
    "my_dog.breed"
   ]
  },
  {
   "cell_type": "code",
   "execution_count": 6,
   "id": "8c67dae9-2534-4728-995a-87fea4ef98b2",
   "metadata": {},
   "outputs": [],
   "source": [
    "class Dog():\n",
    "    def __init__(self,breed,name,spots):\n",
    "        self.breed=breed\n",
    "        self.name=name\n",
    "        self.spots=spots"
   ]
  },
  {
   "cell_type": "code",
   "execution_count": 7,
   "id": "fb602bfe-a50a-4264-ae47-75d0a36d89d7",
   "metadata": {},
   "outputs": [],
   "source": [
    "my_dog=Dog(breed='Lab',name='Sammy',spots='No spots')"
   ]
  },
  {
   "cell_type": "code",
   "execution_count": 8,
   "id": "0a58d678-50d2-4704-80a9-76c85476dbe5",
   "metadata": {},
   "outputs": [
    {
     "data": {
      "text/plain": [
       "__main__.Dog"
      ]
     },
     "execution_count": 8,
     "metadata": {},
     "output_type": "execute_result"
    }
   ],
   "source": [
    "type(my_dog)"
   ]
  },
  {
   "cell_type": "code",
   "execution_count": 9,
   "id": "5a92c3cc-76a6-4c78-888b-5aaca80b54e7",
   "metadata": {},
   "outputs": [
    {
     "data": {
      "text/plain": [
       "'Lab'"
      ]
     },
     "execution_count": 9,
     "metadata": {},
     "output_type": "execute_result"
    }
   ],
   "source": [
    "my_dog.breed"
   ]
  },
  {
   "cell_type": "code",
   "execution_count": 10,
   "id": "30d7f202-3252-4df3-805f-311956059bf7",
   "metadata": {},
   "outputs": [
    {
     "data": {
      "text/plain": [
       "'Sammy'"
      ]
     },
     "execution_count": 10,
     "metadata": {},
     "output_type": "execute_result"
    }
   ],
   "source": [
    "my_dog.name"
   ]
  },
  {
   "cell_type": "code",
   "execution_count": 11,
   "id": "5dac369f-daa1-466f-a58e-f9e82b8a0685",
   "metadata": {},
   "outputs": [
    {
     "data": {
      "text/plain": [
       "'No spots'"
      ]
     },
     "execution_count": 11,
     "metadata": {},
     "output_type": "execute_result"
    }
   ],
   "source": [
    "my_dog.spots"
   ]
  },
  {
   "cell_type": "code",
   "execution_count": 14,
   "id": "55a89339-8fda-4e3c-8226-6b53624a7f1a",
   "metadata": {},
   "outputs": [],
   "source": [
    "class Dog():\n",
    "    # CLASS OBJECT ATTRIBUTE(Bcoz this attribute is not connected to self or it's not connected to any particular instance)\n",
    "    # SAME FOR ANY INSTANCE OF A CLASS\n",
    "    species='mammal'\n",
    "    def __init__(self,breed,name,spots):\n",
    "        # special __init__ method for user_defined_attribute\n",
    "        self.breed=breed\n",
    "        self.name=name\n",
    "        # Expect boolean True/false\n",
    "        self.spots=spots"
   ]
  },
  {
   "cell_type": "code",
   "execution_count": 15,
   "id": "9f3947b2-14c2-4513-a2cd-935942db9bcd",
   "metadata": {},
   "outputs": [],
   "source": [
    "my_dog=Dog(breed='Lab',name='Husky',spots=False)"
   ]
  },
  {
   "cell_type": "code",
   "execution_count": 16,
   "id": "3565236e-9900-4bda-ad8b-9e7a02bdf716",
   "metadata": {},
   "outputs": [
    {
     "data": {
      "text/plain": [
       "__main__.Dog"
      ]
     },
     "execution_count": 16,
     "metadata": {},
     "output_type": "execute_result"
    }
   ],
   "source": [
    "type(my_dog)"
   ]
  },
  {
   "cell_type": "code",
   "execution_count": 17,
   "id": "e5ae26f1-9bcf-44ef-bf72-7abaa794b565",
   "metadata": {},
   "outputs": [
    {
     "data": {
      "text/plain": [
       "'Lab'"
      ]
     },
     "execution_count": 17,
     "metadata": {},
     "output_type": "execute_result"
    }
   ],
   "source": [
    "my_dog.breed"
   ]
  },
  {
   "cell_type": "code",
   "execution_count": 18,
   "id": "08c04ee6-cb70-4cb1-99fb-458e96a081a5",
   "metadata": {},
   "outputs": [
    {
     "data": {
      "text/plain": [
       "'Husky'"
      ]
     },
     "execution_count": 18,
     "metadata": {},
     "output_type": "execute_result"
    }
   ],
   "source": [
    "my_dog.name"
   ]
  },
  {
   "cell_type": "code",
   "execution_count": 39,
   "id": "5dabcc98-5746-4cca-ba67-487b062be5f8",
   "metadata": {},
   "outputs": [
    {
     "data": {
      "text/plain": [
       "'mammal'"
      ]
     },
     "execution_count": 39,
     "metadata": {},
     "output_type": "execute_result"
    }
   ],
   "source": [
    "my_dog.species"
   ]
  },
  {
   "cell_type": "code",
   "execution_count": 19,
   "id": "00fd48a2-c929-4584-bc44-8310db5c6a88",
   "metadata": {},
   "outputs": [
    {
     "data": {
      "text/plain": [
       "False"
      ]
     },
     "execution_count": 19,
     "metadata": {},
     "output_type": "execute_result"
    }
   ],
   "source": [
    "my_dog.spots"
   ]
  },
  {
   "cell_type": "code",
   "execution_count": 31,
   "id": "5d849ca9-2292-4258-90be-9321e0195f97",
   "metadata": {},
   "outputs": [],
   "source": [
    "class Dog():\n",
    "    # CLASS OBJECT ATTRIBUTE(Bcoz this attribute is not connected to self or it's not connected to any particular instance)\n",
    "    # SAME FOR ANY INSTANCE OF A CLASS\n",
    "    species='mammal'\n",
    "    def __init__(self,breed,name):\n",
    "        # special __init__ method for user_defined_attribute\n",
    "        self.breed=breed\n",
    "        self.name=name\n",
    "    # OPERATIONS/Actions ---> Methods\n",
    "    def bark(self,number):\n",
    "        print(\"WOOF! My name is {} and the number is {}\".format(self.name,number))"
   ]
  },
  {
   "cell_type": "code",
   "execution_count": 32,
   "id": "ea1a9718-316f-4b0a-9de0-ccf034088614",
   "metadata": {},
   "outputs": [],
   "source": [
    "my_dog=Dog(breed='Lab',name='Huskie')"
   ]
  },
  {
   "cell_type": "code",
   "execution_count": 33,
   "id": "f4141206-c9bc-40ec-bf30-a78b6709eaf3",
   "metadata": {},
   "outputs": [
    {
     "data": {
      "text/plain": [
       "__main__.Dog"
      ]
     },
     "execution_count": 33,
     "metadata": {},
     "output_type": "execute_result"
    }
   ],
   "source": [
    "type(my_dog)"
   ]
  },
  {
   "cell_type": "code",
   "execution_count": 34,
   "id": "c2d1a2d1-03a1-4e1a-ba19-871e6c9bfbe0",
   "metadata": {},
   "outputs": [
    {
     "data": {
      "text/plain": [
       "'Lab'"
      ]
     },
     "execution_count": 34,
     "metadata": {},
     "output_type": "execute_result"
    }
   ],
   "source": [
    "my_dog.breed"
   ]
  },
  {
   "cell_type": "code",
   "execution_count": 35,
   "id": "8cb70c7d-8999-4651-abe5-1c09c21310f1",
   "metadata": {},
   "outputs": [
    {
     "data": {
      "text/plain": [
       "'Huskie'"
      ]
     },
     "execution_count": 35,
     "metadata": {},
     "output_type": "execute_result"
    }
   ],
   "source": [
    "my_dog.name"
   ]
  },
  {
   "cell_type": "code",
   "execution_count": 36,
   "id": "0fca8abb-b854-4821-bafc-e13cea293d55",
   "metadata": {},
   "outputs": [
    {
     "data": {
      "text/plain": [
       "<bound method Dog.bark of <__main__.Dog object at 0x0000024059963A40>>"
      ]
     },
     "execution_count": 36,
     "metadata": {},
     "output_type": "execute_result"
    }
   ],
   "source": [
    "my_dog.bark"
   ]
  },
  {
   "cell_type": "code",
   "execution_count": 38,
   "id": "00558dae-6aed-4fed-8869-c91e10951fff",
   "metadata": {},
   "outputs": [
    {
     "name": "stdout",
     "output_type": "stream",
     "text": [
      "WOOF! My name is Huskie and the number is 10\n"
     ]
    }
   ],
   "source": [
    "my_dog.bark(10)"
   ]
  },
  {
   "cell_type": "code",
   "execution_count": 51,
   "id": "90c455dd-8a79-4149-9437-1ffe58f708ab",
   "metadata": {},
   "outputs": [],
   "source": [
    "class Circle():\n",
    "    # CLASS OBJECT ATTRIBUTE\n",
    "    pi=3.14\n",
    "    def __init__(self,radius=1):\n",
    "        self.radius=radius\n",
    "        self.area=radius*radius*self.pi #(since pi is a class object attribute since we can also write it as Circle.pi here in place of self.pi)\n",
    "    # METHOD\n",
    "    def get_circumference(self):\n",
    "        return self.radius*self.pi*2"
   ]
  },
  {
   "cell_type": "code",
   "execution_count": 52,
   "id": "1ada0f0a-a240-4d04-a55e-c73b7fb3d146",
   "metadata": {},
   "outputs": [],
   "source": [
    "my_circle=Circle(30) #we are overwriting the default value of radius here as 30"
   ]
  },
  {
   "cell_type": "code",
   "execution_count": 53,
   "id": "fa56e8a0-c2c5-43fc-82a0-6006516e39d5",
   "metadata": {},
   "outputs": [
    {
     "data": {
      "text/plain": [
       "3.14"
      ]
     },
     "execution_count": 53,
     "metadata": {},
     "output_type": "execute_result"
    }
   ],
   "source": [
    "my_circle.pi"
   ]
  },
  {
   "cell_type": "code",
   "execution_count": 54,
   "id": "bcc8fcab-768c-48dc-8ca5-670793e46412",
   "metadata": {},
   "outputs": [
    {
     "data": {
      "text/plain": [
       "30"
      ]
     },
     "execution_count": 54,
     "metadata": {},
     "output_type": "execute_result"
    }
   ],
   "source": [
    "my_circle.radius"
   ]
  },
  {
   "cell_type": "code",
   "execution_count": 55,
   "id": "96a73d6a-dbd7-4034-aa3d-4c21aca1e4cf",
   "metadata": {},
   "outputs": [
    {
     "data": {
      "text/plain": [
       "<bound method Circle.get_circumference of <__main__.Circle object at 0x000002405A6FE7B0>>"
      ]
     },
     "execution_count": 55,
     "metadata": {},
     "output_type": "execute_result"
    }
   ],
   "source": [
    "my_circle.get_circumference"
   ]
  },
  {
   "cell_type": "code",
   "execution_count": 56,
   "id": "65aa3b82-eaad-4f3c-9a45-275a9586036f",
   "metadata": {},
   "outputs": [
    {
     "data": {
      "text/plain": [
       "188.4"
      ]
     },
     "execution_count": 56,
     "metadata": {},
     "output_type": "execute_result"
    }
   ],
   "source": [
    "my_circle.get_circumference()"
   ]
  },
  {
   "cell_type": "code",
   "execution_count": 57,
   "id": "5e8e7c0c-0f8f-4d84-a6a0-36ca21f35cca",
   "metadata": {},
   "outputs": [
    {
     "data": {
      "text/plain": [
       "2826.0"
      ]
     },
     "execution_count": 57,
     "metadata": {},
     "output_type": "execute_result"
    }
   ],
   "source": [
    "my_circle.area"
   ]
  },
  {
   "cell_type": "markdown",
   "id": "2623247d-dfc3-4393-a00f-573c2e3c0bf2",
   "metadata": {},
   "source": [
    "## INHERITANCE"
   ]
  },
  {
   "cell_type": "markdown",
   "id": "863ec8f3-944f-4e5e-828e-c7ec59cb447f",
   "metadata": {},
   "source": [
    "### Inheritance is way of forming new classes using already defined class"
   ]
  },
  {
   "cell_type": "code",
   "execution_count": 59,
   "id": "2997015b-f717-4beb-bcdc-dfa1c85984b9",
   "metadata": {},
   "outputs": [],
   "source": [
    "# Benifits of Inheritance\n",
    "    # the ability to reuse codes that you already worked on \n",
    "    # to reduce complexity of the program"
   ]
  },
  {
   "cell_type": "code",
   "execution_count": 60,
   "id": "27da8eef-f7e6-49d7-b605-42ed2b84bb20",
   "metadata": {},
   "outputs": [],
   "source": [
    "class Animal():\n",
    "    def __init__(self):\n",
    "        print(\"Animal Created\")\n",
    "    def who_am_i(self):                    #### BASE CLASS\n",
    "        print(\"I am an animal\")\n",
    "    def eat(self):\n",
    "        print(\"I am eating\")"
   ]
  },
  {
   "cell_type": "code",
   "execution_count": 70,
   "id": "90f57d6e-3709-4b1e-bbbd-2a771b9a0570",
   "metadata": {},
   "outputs": [],
   "source": [
    "## Derived class\n",
    "class Dog(Animal):\n",
    "    def __init__(self):\n",
    "        Animal.__init__(self)     ## (i am going to create instance of Animal class when i create instance of dog class,i am able to do this bcoz i am inheritaning from animal class)\n",
    "        print(\"Dog Created\")\n",
    "    def eat(self):\n",
    "        print(\"I am a dog and eating\")\n",
    "    def who_am_i(self):\n",
    "        print(\"I am a dog!\")"
   ]
  },
  {
   "cell_type": "code",
   "execution_count": 71,
   "id": "e2d71284-8c8a-4a1d-ab1c-07d3c2daba5b",
   "metadata": {},
   "outputs": [
    {
     "name": "stdout",
     "output_type": "stream",
     "text": [
      "Animal Created\n",
      "Dog Created\n"
     ]
    }
   ],
   "source": [
    "mydog=Dog()"
   ]
  },
  {
   "cell_type": "code",
   "execution_count": 72,
   "id": "a24f0b05-d6a0-4d2a-85ce-080983f06032",
   "metadata": {},
   "outputs": [
    {
     "name": "stdout",
     "output_type": "stream",
     "text": [
      "I am a dog and eating\n"
     ]
    }
   ],
   "source": [
    "mydog.eat()"
   ]
  },
  {
   "cell_type": "code",
   "execution_count": 73,
   "id": "08f17855-013b-43ea-a309-408d0c080a43",
   "metadata": {},
   "outputs": [
    {
     "name": "stdout",
     "output_type": "stream",
     "text": [
      "I am a dog!\n"
     ]
    }
   ],
   "source": [
    "mydog.who_am_i()"
   ]
  },
  {
   "cell_type": "markdown",
   "id": "841571bf-57c6-4f0c-b29c-c591935ba50f",
   "metadata": {},
   "source": [
    "## POLYMORPHISM"
   ]
  },
  {
   "cell_type": "code",
   "execution_count": 79,
   "id": "290be9ee-a89a-40fa-811b-a85e76102e98",
   "metadata": {},
   "outputs": [],
   "source": [
    "class Dog():\n",
    "    def __init__(self,name):\n",
    "        self.name=name\n",
    "    def speak(self):\n",
    "        return self.name + \" says woof!\""
   ]
  },
  {
   "cell_type": "code",
   "execution_count": 80,
   "id": "cbd5aaad-84ea-48d8-b9e5-e3f7c07e51d1",
   "metadata": {},
   "outputs": [],
   "source": [
    "class Cat():\n",
    "    def __init__(self,name):\n",
    "        self.name=name\n",
    "    def speak(self):\n",
    "        return self.name + \" says meow!\""
   ]
  },
  {
   "cell_type": "code",
   "execution_count": 81,
   "id": "9c7c74b1-e330-4801-a52f-1a77459cb9b9",
   "metadata": {},
   "outputs": [],
   "source": [
    "niko = Dog(\"niko\")\n",
    "felix = Cat(\"felix\")"
   ]
  },
  {
   "cell_type": "code",
   "execution_count": 82,
   "id": "0a7bd6c9-f2bb-4ac3-9306-0cd461f494ce",
   "metadata": {},
   "outputs": [
    {
     "name": "stdout",
     "output_type": "stream",
     "text": [
      "niko says woof!\n"
     ]
    }
   ],
   "source": [
    "print(niko.speak())"
   ]
  },
  {
   "cell_type": "code",
   "execution_count": 83,
   "id": "359c2032-501a-4c64-ab73-635b094d7c2e",
   "metadata": {},
   "outputs": [
    {
     "name": "stdout",
     "output_type": "stream",
     "text": [
      "felix says meow!\n"
     ]
    }
   ],
   "source": [
    "print(felix.speak())"
   ]
  },
  {
   "cell_type": "code",
   "execution_count": 84,
   "id": "7ada4450-dbf2-41a2-9f37-b75d0bb32464",
   "metadata": {},
   "outputs": [
    {
     "name": "stdout",
     "output_type": "stream",
     "text": [
      "<class '__main__.Dog'>\n",
      "niko says woof!\n",
      "<class '__main__.Cat'>\n",
      "felix says meow!\n"
     ]
    }
   ],
   "source": [
    "for pet in [niko,felix]:\n",
    "    print(type(pet))\n",
    "    print(pet.speak())"
   ]
  },
  {
   "cell_type": "code",
   "execution_count": 85,
   "id": "acba54d6-06c9-4a04-bece-4fc8666b9c08",
   "metadata": {},
   "outputs": [],
   "source": [
    "def pet_speak(pet):\n",
    "    print(pet.speak())"
   ]
  },
  {
   "cell_type": "code",
   "execution_count": 86,
   "id": "8936798d-9673-4dc7-813b-25676674ebcf",
   "metadata": {},
   "outputs": [
    {
     "name": "stdout",
     "output_type": "stream",
     "text": [
      "niko says woof!\n"
     ]
    }
   ],
   "source": [
    "pet_speak(niko)"
   ]
  },
  {
   "cell_type": "code",
   "execution_count": 87,
   "id": "b81101ce-ed57-418e-a07e-0047f4fa44cb",
   "metadata": {},
   "outputs": [
    {
     "name": "stdout",
     "output_type": "stream",
     "text": [
      "felix says meow!\n"
     ]
    }
   ],
   "source": [
    "pet_speak(felix)"
   ]
  },
  {
   "cell_type": "code",
   "execution_count": 88,
   "id": "16d3417c-7a68-4ff9-80da-6984843d1d70",
   "metadata": {},
   "outputs": [],
   "source": [
    "class Animal():\n",
    "    def __init__(self,name):\n",
    "        self.name=name\n",
    "    def speak(self):\n",
    "        raise NotImplementedError(\"Subclass must implement this abstract method\")"
   ]
  },
  {
   "cell_type": "code",
   "execution_count": 89,
   "id": "7d8da25a-3379-4fc2-ac01-6d92ae5bfd7d",
   "metadata": {},
   "outputs": [],
   "source": [
    "class Dog(Animal):\n",
    "    def speak(self):\n",
    "        return self.name+ \" says woof!\""
   ]
  },
  {
   "cell_type": "code",
   "execution_count": 90,
   "id": "bf4b5d4b-c097-4703-bbc5-fb31aae2fc05",
   "metadata": {},
   "outputs": [],
   "source": [
    "class Cat(Animal):\n",
    "    def speak(self):\n",
    "        return self.name+ \" says meow!\""
   ]
  },
  {
   "cell_type": "code",
   "execution_count": 91,
   "id": "2aef808e-6946-4e66-a048-46b694778d2c",
   "metadata": {},
   "outputs": [],
   "source": [
    "fido=Dog(\"Fido\")"
   ]
  },
  {
   "cell_type": "code",
   "execution_count": 92,
   "id": "2daa988b-52b8-45b1-b7f4-80cbb365b9c6",
   "metadata": {},
   "outputs": [],
   "source": [
    "isis=Cat(\"Isis\")"
   ]
  },
  {
   "cell_type": "code",
   "execution_count": 93,
   "id": "aba82ec4-2c9f-4a64-8241-b5cacacd1e23",
   "metadata": {},
   "outputs": [
    {
     "name": "stdout",
     "output_type": "stream",
     "text": [
      "Fido says woof!\n"
     ]
    }
   ],
   "source": [
    "print(fido.speak())"
   ]
  },
  {
   "cell_type": "code",
   "execution_count": 94,
   "id": "34e1760f-58ef-4d6b-b950-7029bfaf4447",
   "metadata": {},
   "outputs": [
    {
     "name": "stdout",
     "output_type": "stream",
     "text": [
      "Isis says meow!\n"
     ]
    }
   ],
   "source": [
    "print(isis.speak())"
   ]
  },
  {
   "cell_type": "markdown",
   "id": "1d42bb1a-030c-4f33-b71e-91857aa04ab5",
   "metadata": {},
   "source": [
    "## Special(Magic/dunder)Methods"
   ]
  },
  {
   "cell_type": "code",
   "execution_count": 95,
   "id": "0ba4ec53-e513-4f4a-bbda-d2b3dae59b0c",
   "metadata": {},
   "outputs": [],
   "source": [
    "mylist=[1,2,3]"
   ]
  },
  {
   "cell_type": "code",
   "execution_count": 96,
   "id": "fd69b54f-b969-448d-9fac-d9d49d755b74",
   "metadata": {},
   "outputs": [
    {
     "data": {
      "text/plain": [
       "3"
      ]
     },
     "execution_count": 96,
     "metadata": {},
     "output_type": "execute_result"
    }
   ],
   "source": [
    "len(mylist)"
   ]
  },
  {
   "cell_type": "code",
   "execution_count": 97,
   "id": "2f3fe353-6b5a-4bb8-b771-4709db09f78e",
   "metadata": {},
   "outputs": [],
   "source": [
    "class Sample():\n",
    "    pass"
   ]
  },
  {
   "cell_type": "code",
   "execution_count": 98,
   "id": "fa5af6bc-e1c3-487d-8d73-f9bd1388e01a",
   "metadata": {},
   "outputs": [],
   "source": [
    "mysample=Sample()"
   ]
  },
  {
   "cell_type": "code",
   "execution_count": 99,
   "id": "c77eccb1-3fad-410a-a8cb-089a7c64168b",
   "metadata": {},
   "outputs": [
    {
     "name": "stdout",
     "output_type": "stream",
     "text": [
      "<__main__.Sample object at 0x000002405967F1A0>\n"
     ]
    }
   ],
   "source": [
    "print(mysample)"
   ]
  },
  {
   "cell_type": "code",
   "execution_count": 115,
   "id": "877a6fc5-7c0f-4acc-aa8b-19c6e3dca0a2",
   "metadata": {},
   "outputs": [],
   "source": [
    "class Book():\n",
    "    def __init__(self,title,author,pages):\n",
    "        self.title=title\n",
    "        self.author=author\n",
    "        self.pages=pages\n",
    "    def __str__(self):\n",
    "        return f\"{self.title} by {self.author}\"\n",
    "    def __len__(self):\n",
    "        return self.pages\n",
    "    def __del__(self):\n",
    "        print(\"A book object has been deleted\")"
   ]
  },
  {
   "cell_type": "code",
   "execution_count": 116,
   "id": "2b2bc746-0c76-4a94-a3fc-f66889150e60",
   "metadata": {},
   "outputs": [],
   "source": [
    "b=Book('Python rocks','Jose',200)"
   ]
  },
  {
   "cell_type": "code",
   "execution_count": 117,
   "id": "1e346fd4-7585-4b39-9412-a8c62189781d",
   "metadata": {},
   "outputs": [
    {
     "name": "stdout",
     "output_type": "stream",
     "text": [
      "Python rocks by Jose\n"
     ]
    }
   ],
   "source": [
    "print(b)"
   ]
  },
  {
   "cell_type": "code",
   "execution_count": 118,
   "id": "2b6666df-7f45-42d0-bd0f-38945ba7a21f",
   "metadata": {},
   "outputs": [
    {
     "data": {
      "text/plain": [
       "'Python rocks by Jose'"
      ]
     },
     "execution_count": 118,
     "metadata": {},
     "output_type": "execute_result"
    }
   ],
   "source": [
    "str(b)"
   ]
  },
  {
   "cell_type": "code",
   "execution_count": 119,
   "id": "cf21d4f6-b723-4c27-b129-ad35ace81da2",
   "metadata": {},
   "outputs": [
    {
     "data": {
      "text/plain": [
       "200"
      ]
     },
     "execution_count": 119,
     "metadata": {},
     "output_type": "execute_result"
    }
   ],
   "source": [
    "len(b)"
   ]
  },
  {
   "cell_type": "code",
   "execution_count": 120,
   "id": "5f4b6835-efdd-4c46-b341-ed2e03af44d5",
   "metadata": {},
   "outputs": [
    {
     "name": "stdout",
     "output_type": "stream",
     "text": [
      "A book object has been deleted\n"
     ]
    }
   ],
   "source": [
    "del b"
   ]
  },
  {
   "cell_type": "code",
   "execution_count": 121,
   "id": "fc46f52d-d3f4-47ae-bb33-d32a53e0c054",
   "metadata": {},
   "outputs": [
    {
     "ename": "NameError",
     "evalue": "name 'b' is not defined",
     "output_type": "error",
     "traceback": [
      "\u001b[1;31m---------------------------------------------------------------------------\u001b[0m",
      "\u001b[1;31mNameError\u001b[0m                                 Traceback (most recent call last)",
      "Cell \u001b[1;32mIn[121], line 1\u001b[0m\n\u001b[1;32m----> 1\u001b[0m b\n",
      "\u001b[1;31mNameError\u001b[0m: name 'b' is not defined"
     ]
    }
   ],
   "source": [
    "b"
   ]
  },
  {
   "cell_type": "code",
   "execution_count": null,
   "id": "9c7bc20f-a7be-4412-add0-7b2931c7ecec",
   "metadata": {},
   "outputs": [],
   "source": []
  }
 ],
 "metadata": {
  "kernelspec": {
   "display_name": "Python 3 (ipykernel)",
   "language": "python",
   "name": "python3"
  },
  "language_info": {
   "codemirror_mode": {
    "name": "ipython",
    "version": 3
   },
   "file_extension": ".py",
   "mimetype": "text/x-python",
   "name": "python",
   "nbconvert_exporter": "python",
   "pygments_lexer": "ipython3",
   "version": "3.12.4"
  }
 },
 "nbformat": 4,
 "nbformat_minor": 5
}
