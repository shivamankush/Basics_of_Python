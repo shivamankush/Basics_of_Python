{
 "cells": [
  {
   "cell_type": "markdown",
   "id": "afc06a4c-990f-4126-a9f5-157558e743d7",
   "metadata": {},
   "source": [
    "# Basic Python Stuff"
   ]
  },
  {
   "cell_type": "code",
   "execution_count": 1,
   "id": "ec0c8776-e001-41d4-8d3c-1b00a34f946a",
   "metadata": {},
   "outputs": [],
   "source": [
    "my_list=[(1,2),(3,4),('new','old')]"
   ]
  },
  {
   "cell_type": "code",
   "execution_count": 8,
   "id": "de19b255-f3b3-4dd2-a60f-4368372059a1",
   "metadata": {},
   "outputs": [
    {
     "name": "stdout",
     "output_type": "stream",
     "text": [
      "(0, (1, 2))\n",
      "(1, (3, 4))\n",
      "(2, ('new', 'old'))\n"
     ]
    }
   ],
   "source": [
    "for a in enumerate(my_list):\n",
    "    print(a)"
   ]
  },
  {
   "cell_type": "code",
   "execution_count": null,
   "id": "eff48f83-9c62-44e5-b522-bfe2cb24647d",
   "metadata": {},
   "outputs": [],
   "source": [
    "my_string='Hello World'"
   ]
  },
  {
   "cell_type": "code",
   "execution_count": null,
   "id": "c9dee4e2-2537-47da-8ab9-ecd932c1ab9e",
   "metadata": {},
   "outputs": [],
   "source": [
    "count=0\n",
    "for i in my_string:\n",
    "    print(i)\n",
    "    count=count+1\n",
    "print(count)\n",
    "print(len(my_string))"
   ]
  },
  {
   "cell_type": "code",
   "execution_count": 3,
   "id": "7b07c018-4ac7-4522-9c68-1c7328beecc8",
   "metadata": {},
   "outputs": [
    {
     "name": "stdout",
     "output_type": "stream",
     "text": [
      "my name is shivam singh and roll no. is 22113075\n"
     ]
    }
   ],
   "source": [
    "name='shivam'\n",
    "roll=22113075\n",
    "print(f'my name is {name} singh and roll no. is {roll}')"
   ]
  },
  {
   "cell_type": "code",
   "execution_count": 4,
   "id": "1e788c2e-a768-430a-8f4d-eda3d57359e0",
   "metadata": {},
   "outputs": [
    {
     "data": {
      "text/plain": [
       "0.2857142857142857"
      ]
     },
     "execution_count": 4,
     "metadata": {},
     "output_type": "execute_result"
    }
   ],
   "source": [
    "result=22/77\n",
    "result"
   ]
  },
  {
   "cell_type": "code",
   "execution_count": 5,
   "id": "fbb58386-af88-4e08-bf4b-05e3f5046288",
   "metadata": {},
   "outputs": [
    {
     "name": "stdout",
     "output_type": "stream",
     "text": [
      "the result is 0.286\n"
     ]
    }
   ],
   "source": [
    "print(\"the result is {r:4.3f}\".format(r=result))"
   ]
  },
  {
   "cell_type": "code",
   "execution_count": 7,
   "id": "a68f0ed9-448c-4896-b53e-8dfa8ead3112",
   "metadata": {},
   "outputs": [
    {
     "name": "stdout",
     "output_type": "stream",
     "text": [
      "s\n",
      "h\n",
      "i\n",
      "a\n",
      "n\n",
      "i\n",
      " \n",
      "s\n",
      "i\n",
      "n\n",
      "g\n",
      "h\n"
     ]
    }
   ],
   "source": [
    "name='shivani singh'\n",
    "for i in name:\n",
    "    if i=='v':\n",
    "        continue\n",
    "    print(i)"
   ]
  },
  {
   "cell_type": "code",
   "execution_count": 9,
   "id": "cdf2fa8b-4b87-4513-a209-9c0c7edc1459",
   "metadata": {},
   "outputs": [
    {
     "name": "stdout",
     "output_type": "stream",
     "text": [
      "(1, 2, 3)\n",
      "(4.567, 5.467, 6.457)\n",
      "('yesterday', 'today', 'tommorow')\n"
     ]
    }
   ],
   "source": [
    "list1=[1,4.567,'yesterday']\n",
    "list2=[2,5.467,'today']\n",
    "list3=[3,6.457,'tommorow']\n",
    "for i in zip(list1,list2,list3):\n",
    "    print(i)"
   ]
  },
  {
   "cell_type": "code",
   "execution_count": 10,
   "id": "95159dda-8ee2-48f1-bdc6-6792b8542a31",
   "metadata": {},
   "outputs": [
    {
     "data": {
      "text/plain": [
       "False"
      ]
     },
     "execution_count": 10,
     "metadata": {},
     "output_type": "execute_result"
    }
   ],
   "source": [
    "3 in list1"
   ]
  },
  {
   "cell_type": "code",
   "execution_count": 11,
   "id": "8ff0c36d-54c1-4215-92b3-baeb097c7d89",
   "metadata": {},
   "outputs": [
    {
     "data": {
      "text/plain": [
       "True"
      ]
     },
     "execution_count": 11,
     "metadata": {},
     "output_type": "execute_result"
    }
   ],
   "source": [
    "3 in list3"
   ]
  },
  {
   "cell_type": "code",
   "execution_count": 12,
   "id": "bc683221-d4fc-4279-b090-c9692d7116e8",
   "metadata": {},
   "outputs": [
    {
     "name": "stdout",
     "output_type": "stream",
     "text": [
      "['H', 'E', 'L', 'L', 'O', ' ', 'W', 'O', 'R', 'L', 'D']\n"
     ]
    }
   ],
   "source": [
    "word='HELLO WORLD'\n",
    "my_list=[w for w in word]\n",
    "print(my_list)"
   ]
  },
  {
   "cell_type": "code",
   "execution_count": 13,
   "id": "cfacfadd-5a41-4355-969e-6f34aaf6af46",
   "metadata": {},
   "outputs": [
    {
     "name": "stdout",
     "output_type": "stream",
     "text": [
      "[1, 4, 9, 16, 25]\n"
     ]
    }
   ],
   "source": [
    "my_list=[i**2 for i in range(1,6)]\n",
    "print(my_list)"
   ]
  },
  {
   "cell_type": "code",
   "execution_count": 15,
   "id": "5b09a23c-fb69-49b9-8927-0235e0c07f6f",
   "metadata": {},
   "outputs": [
    {
     "name": "stdout",
     "output_type": "stream",
     "text": [
      "[4, 16, 36]\n"
     ]
    }
   ],
   "source": [
    "my_list=[i**2 for i in range(1,7) if i%2==0]\n",
    "print(my_list)"
   ]
  },
  {
   "cell_type": "code",
   "execution_count": 18,
   "id": "c697532f-ed5d-4925-b39b-96757d272ea0",
   "metadata": {},
   "outputs": [
    {
     "data": {
      "text/plain": [
       "[8, 64, 216, 512, 1000]"
      ]
     },
     "execution_count": 18,
     "metadata": {},
     "output_type": "execute_result"
    }
   ],
   "source": [
    "list=[i**3 for i in range(1,11) if i%2==0]\n",
    "list"
   ]
  },
  {
   "cell_type": "code",
   "execution_count": 20,
   "id": "cf34147d-c5b1-44ce-abe5-479e4dd0b978",
   "metadata": {},
   "outputs": [
    {
     "data": {
      "text/plain": [
       "[0, 'ODD', 2, 'ODD', 4, 'ODD', 6, 'ODD', 8, 'ODD']"
      ]
     },
     "execution_count": 20,
     "metadata": {},
     "output_type": "execute_result"
    }
   ],
   "source": [
    "list1=[i if i%2==0 else 'ODD' for i in range(0,10)]\n",
    "list1"
   ]
  },
  {
   "cell_type": "code",
   "execution_count": 24,
   "id": "4c8ca864-0f64-47b2-b90e-215774c9a6a1",
   "metadata": {},
   "outputs": [
    {
     "name": "stdout",
     "output_type": "stream",
     "text": [
      "[3, 4, 6, 6, 8, 12, 15, 20, 30]\n"
     ]
    }
   ],
   "source": [
    "my_list=[]\n",
    "for i in [1,2,5]:\n",
    "    for j in [3,4,6]:\n",
    "        my_list.append(i*j)\n",
    "print(my_list)"
   ]
  },
  {
   "cell_type": "code",
   "execution_count": 25,
   "id": "790d367d-29a1-4683-b4b7-d96774f83a36",
   "metadata": {},
   "outputs": [],
   "source": [
    "# *args return a tuple\n",
    "# *kwargs return a dictionary"
   ]
  },
  {
   "cell_type": "code",
   "execution_count": 27,
   "id": "a1c696fe-99aa-4136-a05a-2882a0f8fa26",
   "metadata": {},
   "outputs": [
    {
     "data": {
      "text/plain": [
       "5.0"
      ]
     },
     "execution_count": 27,
     "metadata": {},
     "output_type": "execute_result"
    }
   ],
   "source": [
    "def myfunc(a,b):\n",
    "    return sum((a,b))*0.05\n",
    "myfunc(30,70)"
   ]
  },
  {
   "cell_type": "code",
   "execution_count": 29,
   "id": "c5d46cc6-825a-4bb9-8bc4-90ef36763f8b",
   "metadata": {},
   "outputs": [
    {
     "data": {
      "text/plain": [
       "7.5"
      ]
     },
     "execution_count": 29,
     "metadata": {},
     "output_type": "execute_result"
    }
   ],
   "source": [
    "def myfunc(a,b,c=0,d=0,e=0):\n",
    "    return sum((a,b,c,d,e))*0.05\n",
    "myfunc(10,20,30,40,50)"
   ]
  },
  {
   "cell_type": "code",
   "execution_count": 30,
   "id": "66f1bd28-d91c-4ffa-af1d-e739475d1637",
   "metadata": {},
   "outputs": [
    {
     "ename": "TypeError",
     "evalue": "myfunc() takes from 2 to 5 positional arguments but 6 were given",
     "output_type": "error",
     "traceback": [
      "\u001b[1;31m---------------------------------------------------------------------------\u001b[0m",
      "\u001b[1;31mTypeError\u001b[0m                                 Traceback (most recent call last)",
      "Cell \u001b[1;32mIn[30], line 3\u001b[0m\n\u001b[0;32m      1\u001b[0m \u001b[38;5;28;01mdef\u001b[39;00m \u001b[38;5;21mmyfunc\u001b[39m(a,b,c\u001b[38;5;241m=\u001b[39m\u001b[38;5;241m0\u001b[39m,d\u001b[38;5;241m=\u001b[39m\u001b[38;5;241m0\u001b[39m,e\u001b[38;5;241m=\u001b[39m\u001b[38;5;241m0\u001b[39m):\n\u001b[0;32m      2\u001b[0m     \u001b[38;5;28;01mreturn\u001b[39;00m \u001b[38;5;28msum\u001b[39m((a,b,c,d,e))\u001b[38;5;241m*\u001b[39m\u001b[38;5;241m0.05\u001b[39m\n\u001b[1;32m----> 3\u001b[0m myfunc(\u001b[38;5;241m10\u001b[39m,\u001b[38;5;241m20\u001b[39m,\u001b[38;5;241m30\u001b[39m,\u001b[38;5;241m40\u001b[39m,\u001b[38;5;241m50\u001b[39m,\u001b[38;5;241m60\u001b[39m)\n",
      "\u001b[1;31mTypeError\u001b[0m: myfunc() takes from 2 to 5 positional arguments but 6 were given"
     ]
    }
   ],
   "source": [
    "def myfunc(a,b,c=0,d=0,e=0):\n",
    "    return sum((a,b,c,d,e))*0.05\n",
    "myfunc(10,20,30,40,50,60)"
   ]
  },
  {
   "cell_type": "code",
   "execution_count": 31,
   "id": "568970d9-7698-43ca-82c0-142793eb1297",
   "metadata": {},
   "outputs": [],
   "source": [
    "## To solve the above error we can use *args in order to take arbitrary number of parameters"
   ]
  },
  {
   "cell_type": "code",
   "execution_count": 36,
   "id": "89ed8ba2-5277-4f8d-982a-37e6359f1a9f",
   "metadata": {},
   "outputs": [
    {
     "name": "stdout",
     "output_type": "stream",
     "text": [
      "(10, 20, 30, 40, 50, 60)\n"
     ]
    },
    {
     "data": {
      "text/plain": [
       "10.5"
      ]
     },
     "execution_count": 36,
     "metadata": {},
     "output_type": "execute_result"
    }
   ],
   "source": [
    "def myfunc(*args):\n",
    "    print(args)\n",
    "    return sum(args)*0.05\n",
    "myfunc(10,20,30,40,50,60)"
   ]
  },
  {
   "cell_type": "code",
   "execution_count": 45,
   "id": "8542b744-783a-46d7-9527-1ce27d3cc8a5",
   "metadata": {},
   "outputs": [
    {
     "name": "stdout",
     "output_type": "stream",
     "text": [
      "{'fruit': 'Mango', 'veggie': 'Gobhi'}\n",
      "My favourite fruit is: Mango\n"
     ]
    }
   ],
   "source": [
    "def myfunc(**kwargs):\n",
    "    print(kwargs)\n",
    "    if 'fruit' in kwargs:\n",
    "        print('My favourite fruit is: {}'.format(kwargs['fruit']))\n",
    "myfunc(fruit='Mango',veggie='Gobhi')"
   ]
  },
  {
   "cell_type": "code",
   "execution_count": 47,
   "id": "df4d717c-24ea-4bd0-a40b-a3f6167bdacb",
   "metadata": {},
   "outputs": [
    {
     "name": "stdout",
     "output_type": "stream",
     "text": [
      "(3, 20, 30, 40, 50)\n",
      "{'fruit': 'Mango', 'food': 'chicken_leg_piece', 'animal': 'cow', 'habbit': 'watching football'}\n",
      "I would like: 3 chicken_leg_piece\n"
     ]
    }
   ],
   "source": [
    "def myfunc(*args,**kwargs):\n",
    "    print(args)\n",
    "    print(kwargs)\n",
    "    print('I would like: {} {}'.format(args[0],kwargs['food']))\n",
    "myfunc(3,20,30,40,50,fruit='Mango',food='chicken_leg_piece',animal='cow',habbit='watching football')"
   ]
  },
  {
   "cell_type": "markdown",
   "id": "c5344bf3-cf0f-43f7-aab9-7fe3cfe706d3",
   "metadata": {},
   "source": [
    "## Lambda Expressions,Map and Filter Functions"
   ]
  },
  {
   "cell_type": "code",
   "execution_count": 48,
   "id": "a80bfce3-b624-45d7-881e-91b57caea706",
   "metadata": {},
   "outputs": [
    {
     "data": {
      "text/plain": [
       "<map at 0x1e0deb863b0>"
      ]
     },
     "execution_count": 48,
     "metadata": {},
     "output_type": "execute_result"
    }
   ],
   "source": [
    "def square(num):\n",
    "    return num**2\n",
    "my_list=[1,2,3,4,5]\n",
    "map(square,my_list)"
   ]
  },
  {
   "cell_type": "code",
   "execution_count": 51,
   "id": "5d1110c1-6b4f-4669-8973-bdf8beacfe5c",
   "metadata": {},
   "outputs": [
    {
     "name": "stdout",
     "output_type": "stream",
     "text": [
      "1\n",
      "4\n",
      "9\n",
      "16\n",
      "25\n"
     ]
    }
   ],
   "source": [
    "for item in map(square,my_list):\n",
    "    print(item)"
   ]
  },
  {
   "cell_type": "code",
   "execution_count": 66,
   "id": "74e38352-3349-4fee-ba84-81232a8cef6a",
   "metadata": {},
   "outputs": [],
   "source": [
    "# we are using splicer as an argument\n",
    "def splicer(mystring):\n",
    "    if len(mystring)%2==0:\n",
    "        return 'EVEN'\n",
    "    else:\n",
    "        return mystring[0]  "
   ]
  },
  {
   "cell_type": "code",
   "execution_count": 67,
   "id": "9d525db8-c452-4f96-bbb1-1cfa054a5401",
   "metadata": {},
   "outputs": [],
   "source": [
    "names=['andy','eve','shiv']"
   ]
  },
  {
   "cell_type": "code",
   "execution_count": 70,
   "id": "06ebccec-f789-4707-9c03-53ed82576730",
   "metadata": {},
   "outputs": [
    {
     "name": "stdout",
     "output_type": "stream",
     "text": [
      "('EVEN', 'e', 'EVEN')\n"
     ]
    }
   ],
   "source": [
    "ind=tuple(map(splicer,names))\n",
    "print(ind)"
   ]
  },
  {
   "cell_type": "code",
   "execution_count": 79,
   "id": "5e645795-7f56-4939-8718-defea947d920",
   "metadata": {},
   "outputs": [
    {
     "data": {
      "text/plain": [
       "<filter at 0x1e0ddd0cd30>"
      ]
     },
     "execution_count": 79,
     "metadata": {},
     "output_type": "execute_result"
    }
   ],
   "source": [
    "# Filter function\n",
    "def check_even(num):\n",
    "    return num%2==0\n",
    "numbers=[1,2,3,4,5,6,7,8,9,10]\n",
    "filter(check_even,numbers)\n",
    "\n",
    "# By using lamda expression\n",
    "# list(filter(lambda num:num%2==0,numbers))"
   ]
  },
  {
   "cell_type": "code",
   "execution_count": 77,
   "id": "5984bd5f-c1d2-4c70-ba71-b42231595d69",
   "metadata": {},
   "outputs": [
    {
     "name": "stdout",
     "output_type": "stream",
     "text": [
      "2\n",
      "4\n",
      "6\n",
      "8\n",
      "10\n"
     ]
    }
   ],
   "source": [
    "for items in filter(check_even,numbers):\n",
    "    print(items)"
   ]
  },
  {
   "cell_type": "code",
   "execution_count": 82,
   "id": "e96edec2-8445-446c-943a-e735476584bc",
   "metadata": {},
   "outputs": [],
   "source": [
    "# How to use lambda step by step(Lambda expression also known as anonymous function)\n",
    "square=lambda num:num**2#(in 3rd step remove the def square & return)(We remove return bcoz we assume that it will return the result of other side of the column)\n",
    "    #result=num**2(1st step)\n",
    "    #return num**2(in 2nd step put this line of code 1st line only)"
   ]
  },
  {
   "cell_type": "code",
   "execution_count": 84,
   "id": "f153ce83-ae47-4126-9729-06ce0309950b",
   "metadata": {},
   "outputs": [
    {
     "data": {
      "text/plain": [
       "25"
      ]
     },
     "execution_count": 84,
     "metadata": {},
     "output_type": "execute_result"
    }
   ],
   "source": [
    "square(5)"
   ]
  },
  {
   "cell_type": "code",
   "execution_count": 87,
   "id": "48505c21-810c-445d-a647-d25bba8c68d5",
   "metadata": {},
   "outputs": [
    {
     "data": {
      "text/plain": [
       "(2, 4, 6, 8, 10)"
      ]
     },
     "execution_count": 87,
     "metadata": {},
     "output_type": "execute_result"
    }
   ],
   "source": [
    "# using lamda expression infilter\n",
    "tuple(filter(lambda num:num%2==0,numbers))"
   ]
  },
  {
   "cell_type": "code",
   "execution_count": 89,
   "id": "01f386bd-7cfa-4465-9e6b-01dad834ceca",
   "metadata": {},
   "outputs": [
    {
     "data": {
      "text/plain": [
       "('ydna', 'eve', 'vihs')"
      ]
     },
     "execution_count": 89,
     "metadata": {},
     "output_type": "execute_result"
    }
   ],
   "source": [
    "# Reverse the names variable using lambda expression\n",
    "tuple(map(lambda x:x[::-1],names))"
   ]
  },
  {
   "cell_type": "markdown",
   "id": "1f784d5c-d1fb-4ea5-9afe-c7a052854383",
   "metadata": {},
   "source": [
    "# THANKS"
   ]
  },
  {
   "cell_type": "code",
   "execution_count": null,
   "id": "e8ba4c3f-fc79-4e7b-a681-8227dd83ff9b",
   "metadata": {},
   "outputs": [],
   "source": []
  }
 ],
 "metadata": {
  "kernelspec": {
   "display_name": "Python 3 (ipykernel)",
   "language": "python",
   "name": "python3"
  },
  "language_info": {
   "codemirror_mode": {
    "name": "ipython",
    "version": 3
   },
   "file_extension": ".py",
   "mimetype": "text/x-python",
   "name": "python",
   "nbconvert_exporter": "python",
   "pygments_lexer": "ipython3",
   "version": "3.12.4"
  }
 },
 "nbformat": 4,
 "nbformat_minor": 5
}
